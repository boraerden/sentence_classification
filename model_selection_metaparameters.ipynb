{
 "cells": [
  {
   "cell_type": "code",
   "execution_count": 1,
   "metadata": {},
   "outputs": [
    {
     "name": "stderr",
     "output_type": "stream",
     "text": [
      "Using TensorFlow backend.\n"
     ]
    }
   ],
   "source": [
    "import numpy as np\n",
    "from keras.models import Sequential\n",
    "from keras.layers import Dense\n",
    "from keras.layers import LSTM\n",
    "from keras.layers import Dropout\n",
    "from keras.optimizers import SGD, Adam\n",
    "from keras.layers.embeddings import Embedding\n",
    "\n",
    "from sklearn.model_selection import train_test_split\n",
    "from keras.wrappers.scikit_learn import KerasClassifier\n",
    "from sklearn.model_selection import GridSearchCV\n",
    "from sklearn.utils import class_weight\n",
    "\n",
    "from pdb import set_trace as t\n",
    "import util\n"
   ]
  },
  {
   "cell_type": "code",
   "execution_count": 2,
   "metadata": {},
   "outputs": [
    {
     "data": {
      "text/html": [
       "<script>\n",
       "code_show_err=false; \n",
       "function code_toggle_err() {\n",
       " if (code_show_err){\n",
       " $('div.output_stderr').hide();\n",
       " } else {\n",
       " $('div.output_stderr').show();\n",
       " }\n",
       " code_show_err = !code_show_err\n",
       "} \n",
       "$( document ).ready(code_toggle_err);\n",
       "</script>\n",
       "To toggle on/off output_stderr, click <a href=\"javascript:code_toggle_err()\">here</a>."
      ],
      "text/plain": [
       "<IPython.core.display.HTML object>"
      ]
     },
     "execution_count": 2,
     "metadata": {},
     "output_type": "execute_result"
    }
   ],
   "source": [
    "from IPython.display import HTML\n",
    "HTML('''<script>\n",
    "code_show_err=false; \n",
    "function code_toggle_err() {\n",
    " if (code_show_err){\n",
    " $('div.output_stderr').hide();\n",
    " } else {\n",
    " $('div.output_stderr').show();\n",
    " }\n",
    " code_show_err = !code_show_err\n",
    "} \n",
    "$( document ).ready(code_toggle_err);\n",
    "</script>\n",
    "To toggle on/off output_stderr, click <a href=\"javascript:code_toggle_err()\">here</a>.''')"
   ]
  },
  {
   "cell_type": "code",
   "execution_count": 3,
   "metadata": {},
   "outputs": [
    {
     "data": {
      "text/plain": [
       "<module 'util' from 'util.pyc'>"
      ]
     },
     "execution_count": 3,
     "metadata": {},
     "output_type": "execute_result"
    }
   ],
   "source": [
    "reload(util)"
   ]
  },
  {
   "cell_type": "code",
   "execution_count": 3,
   "metadata": {
    "collapsed": true
   },
   "outputs": [],
   "source": [
    "vocab_size = 50000\n",
    "max_review_length = 500\n",
    "sentences, what_labels, _, _, _ = util.load_data(vocab_size, max_review_length)\n"
   ]
  },
  {
   "cell_type": "code",
   "execution_count": 4,
   "metadata": {
    "collapsed": true
   },
   "outputs": [],
   "source": [
    "X_train, X_test, y_train, y_test = train_test_split(sentences, what_labels, test_size = 0.33)\n",
    "class_rebalance = class_weight.compute_class_weight('balanced', np.unique(y_train), y_train)"
   ]
  },
  {
   "cell_type": "code",
   "execution_count": 6,
   "metadata": {
    "collapsed": true
   },
   "outputs": [],
   "source": [
    "def create_model(learn_rate=0.0005, decay=0):\n",
    "    embedding_vector_length = 32\n",
    "    dropout_rate = 0.2\n",
    "\n",
    "    model = Sequential()\n",
    "    model.add(Embedding(vocab_size, embedding_vector_length, input_length=max_review_length))\n",
    "    model.add(Dropout(dropout_rate))\n",
    "    model.add(LSTM(100))\n",
    "    model.add(Dropout(dropout_rate))\n",
    "    model.add(Dense(1, activation='sigmoid'))\n",
    "    optimizer = Adam(lr=learn_rate, decay=decay)\n",
    "    model.compile(loss='binary_crossentropy', optimizer=optimizer, metrics=['accuracy'])\n",
    "    \n",
    "    return model"
   ]
  },
  {
   "cell_type": "code",
   "execution_count": 7,
   "metadata": {
    "scrolled": true
   },
   "outputs": [
    {
     "name": "stderr",
     "output_type": "stream",
     "text": [
      "/home/efs/nds.locus.io/berden/code/env/local/lib/python2.7/site-packages/sklearn/base.py:122: DeprecationWarning: Estimator KerasClassifier modifies parameters in __init__. This behavior is deprecated as of 0.18 and support for this behavior will be removed in 0.20.\n",
      "  % type(estimator).__name__, DeprecationWarning)\n",
      "/home/efs/nds.locus.io/berden/code/env/local/lib/python2.7/site-packages/sklearn/base.py:122: DeprecationWarning: Estimator KerasClassifier modifies parameters in __init__. This behavior is deprecated as of 0.18 and support for this behavior will be removed in 0.20.\n",
      "  % type(estimator).__name__, DeprecationWarning)\n",
      "/home/efs/nds.locus.io/berden/code/env/local/lib/python2.7/site-packages/sklearn/base.py:122: DeprecationWarning: Estimator KerasClassifier modifies parameters in __init__. This behavior is deprecated as of 0.18 and support for this behavior will be removed in 0.20.\n",
      "  % type(estimator).__name__, DeprecationWarning)\n",
      "/home/efs/nds.locus.io/berden/code/env/local/lib/python2.7/site-packages/sklearn/base.py:122: DeprecationWarning: Estimator KerasClassifier modifies parameters in __init__. This behavior is deprecated as of 0.18 and support for this behavior will be removed in 0.20.\n",
      "  % type(estimator).__name__, DeprecationWarning)\n",
      "/home/efs/nds.locus.io/berden/code/env/local/lib/python2.7/site-packages/sklearn/base.py:122: DeprecationWarning: Estimator KerasClassifier modifies parameters in __init__. This behavior is deprecated as of 0.18 and support for this behavior will be removed in 0.20.\n",
      "  % type(estimator).__name__, DeprecationWarning)\n",
      "/home/efs/nds.locus.io/berden/code/env/local/lib/python2.7/site-packages/sklearn/base.py:122: DeprecationWarning: Estimator KerasClassifier modifies parameters in __init__. This behavior is deprecated as of 0.18 and support for this behavior will be removed in 0.20.\n",
      "  % type(estimator).__name__, DeprecationWarning)\n",
      "/home/efs/nds.locus.io/berden/code/env/local/lib/python2.7/site-packages/sklearn/base.py:122: DeprecationWarning: Estimator KerasClassifier modifies parameters in __init__. This behavior is deprecated as of 0.18 and support for this behavior will be removed in 0.20.\n",
      "  % type(estimator).__name__, DeprecationWarning)\n",
      "/home/efs/nds.locus.io/berden/code/env/local/lib/python2.7/site-packages/sklearn/base.py:122: DeprecationWarning: Estimator KerasClassifier modifies parameters in __init__. This behavior is deprecated as of 0.18 and support for this behavior will be removed in 0.20.\n",
      "  % type(estimator).__name__, DeprecationWarning)\n",
      "/home/efs/nds.locus.io/berden/code/env/local/lib/python2.7/site-packages/sklearn/base.py:122: DeprecationWarning: Estimator KerasClassifier modifies parameters in __init__. This behavior is deprecated as of 0.18 and support for this behavior will be removed in 0.20.\n",
      "  % type(estimator).__name__, DeprecationWarning)\n",
      "/home/efs/nds.locus.io/berden/code/env/local/lib/python2.7/site-packages/sklearn/base.py:122: DeprecationWarning: Estimator KerasClassifier modifies parameters in __init__. This behavior is deprecated as of 0.18 and support for this behavior will be removed in 0.20.\n",
      "  % type(estimator).__name__, DeprecationWarning)\n",
      "/home/efs/nds.locus.io/berden/code/env/local/lib/python2.7/site-packages/sklearn/base.py:122: DeprecationWarning: Estimator KerasClassifier modifies parameters in __init__. This behavior is deprecated as of 0.18 and support for this behavior will be removed in 0.20.\n",
      "  % type(estimator).__name__, DeprecationWarning)\n",
      "/home/efs/nds.locus.io/berden/code/env/local/lib/python2.7/site-packages/sklearn/base.py:122: DeprecationWarning: Estimator KerasClassifier modifies parameters in __init__. This behavior is deprecated as of 0.18 and support for this behavior will be removed in 0.20.\n",
      "  % type(estimator).__name__, DeprecationWarning)\n",
      "/home/efs/nds.locus.io/berden/code/env/local/lib/python2.7/site-packages/sklearn/base.py:122: DeprecationWarning: Estimator KerasClassifier modifies parameters in __init__. This behavior is deprecated as of 0.18 and support for this behavior will be removed in 0.20.\n",
      "  % type(estimator).__name__, DeprecationWarning)\n",
      "/home/efs/nds.locus.io/berden/code/env/local/lib/python2.7/site-packages/sklearn/base.py:122: DeprecationWarning: Estimator KerasClassifier modifies parameters in __init__. This behavior is deprecated as of 0.18 and support for this behavior will be removed in 0.20.\n",
      "  % type(estimator).__name__, DeprecationWarning)\n",
      "/home/efs/nds.locus.io/berden/code/env/local/lib/python2.7/site-packages/sklearn/base.py:122: DeprecationWarning: Estimator KerasClassifier modifies parameters in __init__. This behavior is deprecated as of 0.18 and support for this behavior will be removed in 0.20.\n",
      "  % type(estimator).__name__, DeprecationWarning)\n",
      "/home/efs/nds.locus.io/berden/code/env/local/lib/python2.7/site-packages/sklearn/base.py:122: DeprecationWarning: Estimator KerasClassifier modifies parameters in __init__. This behavior is deprecated as of 0.18 and support for this behavior will be removed in 0.20.\n",
      "  % type(estimator).__name__, DeprecationWarning)\n",
      "/home/efs/nds.locus.io/berden/code/env/local/lib/python2.7/site-packages/sklearn/base.py:122: DeprecationWarning: Estimator KerasClassifier modifies parameters in __init__. This behavior is deprecated as of 0.18 and support for this behavior will be removed in 0.20.\n",
      "  % type(estimator).__name__, DeprecationWarning)\n",
      "/home/efs/nds.locus.io/berden/code/env/local/lib/python2.7/site-packages/sklearn/base.py:122: DeprecationWarning: Estimator KerasClassifier modifies parameters in __init__. This behavior is deprecated as of 0.18 and support for this behavior will be removed in 0.20.\n",
      "  % type(estimator).__name__, DeprecationWarning)\n",
      "/home/efs/nds.locus.io/berden/code/env/local/lib/python2.7/site-packages/sklearn/base.py:122: DeprecationWarning: Estimator KerasClassifier modifies parameters in __init__. This behavior is deprecated as of 0.18 and support for this behavior will be removed in 0.20.\n",
      "  % type(estimator).__name__, DeprecationWarning)\n"
     ]
    },
    {
     "name": "stdout",
     "output_type": "stream",
     "text": [
      "Epoch 1/3\n",
      "Epoch 1/3\n",
      "Epoch 1/3\n",
      "Epoch 1/3\n",
      "Epoch 1/3\n",
      "Epoch 1/3\n",
      "Epoch 1/3\n",
      "Epoch 1/3\n",
      "Epoch 1/3\n",
      "Epoch 1/3\n",
      "Epoch 1/3\n",
      "Epoch 1/3\n",
      "Epoch 1/3\n",
      "Epoch 1/3\n",
      "   64/18561 [..............................] - ETA: 655s - loss: 0.6919 - acc: 0.6406Epoch 1/3\n",
      "Epoch 1/3\n",
      "Epoch 1/3\n",
      "Epoch 1/3\n",
      "18561/18561 [==============================] - 719s - loss: 0.2815 - acc: 0.9039   \n",
      "Epoch 2/3\n",
      "18561/18561 [==============================] - 722s - loss: 0.3297 - acc: 0.8955   \n",
      "18368/18562 [============================>.] - ETA: 7s - loss: 0.3436 - acc: 0.8942 Epoch 2/3\n",
      "18561/18561 [==============================] - 722s - loss: 0.2705 - acc: 0.9070   \n",
      "Epoch 2/3\n",
      "18562/18562 [==============================] - 724s - loss: 0.3249 - acc: 0.8976   \n",
      "Epoch 2/3\n",
      "18561/18561 [==============================] - 725s - loss: 0.3204 - acc: 0.8970   \n",
      "Epoch 2/3\n",
      "18562/18562 [==============================] - 725s - loss: 0.2889 - acc: 0.9028   4\n",
      "Epoch 2/3\n",
      "18561/18561 [==============================] - 726s - loss: 0.2836 - acc: 0.9036   \n",
      "18496/18562 [============================>.] - ETA: 2s - loss: 0.3432 - acc: 0.8942Epoch 2/3\n",
      "18562/18562 [==============================] - 728s - loss: 0.2680 - acc: 0.9076   6\n",
      "Epoch 2/3\n",
      "18562/18562 [==============================] - 728s - loss: 0.3433 - acc: 0.8941   7\n",
      "Epoch 2/3\n",
      "18561/18561 [==============================] - 728s - loss: 0.2673 - acc: 0.9059   5\n",
      "Epoch 2/3\n",
      "18561/18561 [==============================] - 729s - loss: 0.2694 - acc: 0.9069   \n",
      "Epoch 2/3\n",
      "18561/18561 [==============================] - 729s - loss: 0.3399 - acc: 0.8933   \n",
      "Epoch 2/3\n",
      "18561/18561 [==============================] - 731s - loss: 0.3446 - acc: 0.8922   \n",
      "Epoch 2/3\n",
      "\n",
      "Epoch 2/3\n",
      "18562/18562 [==============================] - 732s - loss: 0.2981 - acc: 0.9009   1\n",
      "Epoch 2/3\n",
      "18561/18561 [==============================] - 732s - loss: 0.2913 - acc: 0.9015   7\n",
      "Epoch 2/3\n",
      "18561/18561 [==============================] - 735s - loss: 0.2788 - acc: 0.9041   7\n",
      "Epoch 2/3\n",
      "18561/18561 [==============================] - 740s - loss: 0.3019 - acc: 0.8988   9\n",
      "Epoch 2/3\n",
      "18561/18561 [==============================] - 798s - loss: 0.2132 - acc: 0.9156   \n",
      "Epoch 3/3\n",
      "18561/18561 [==============================] - 805s - loss: 0.1740 - acc: 0.9401   4\n",
      "17984/18562 [============================>.] - ETA: 25s - loss: 0.1711 - acc: 0.9386Epoch 3/3\n",
      "18561/18561 [==============================] - 808s - loss: 0.1994 - acc: 0.9255   \n",
      "Epoch 3/3\n",
      "18561/18561 [==============================] - 803s - loss: 0.1740 - acc: 0.9367   \n",
      "18560/18562 [============================>.] - ETA: 0s - loss: 0.1751 - acc: 0.9365Epoch 3/3\n",
      "18562/18562 [==============================] - 806s - loss: 0.1751 - acc: 0.9365   \n",
      "Epoch 3/3\n",
      "18561/18561 [==============================] - 806s - loss: 0.1987 - acc: 0.9252   \n",
      "Epoch 3/3\n",
      "18562/18562 [==============================] - 808s - loss: 0.1883 - acc: 0.9298   \n",
      "Epoch 3/3\n",
      "18176/18561 [============================>.] - ETA: 16s - loss: 0.1834 - acc: 0.9292\n",
      "Epoch 3/3\n",
      "17856/18561 [===========================>..] - ETA: 31s - loss: 0.1869 - acc: 0.9299\n",
      "Epoch 3/3\n",
      "18561/18561 [==============================] - 804s - loss: 0.1674 - acc: 0.9411   \n",
      "Epoch 3/3\n",
      "18176/18562 [============================>.] - ETA: 17s - loss: 0.1715 - acc: 0.9385\n",
      "Epoch 3/3\n",
      "18561/18561 [==============================] - 814s - loss: 0.1842 - acc: 0.9292   2\n",
      "Epoch 3/3\n",
      "18561/18561 [==============================] - 819s - loss: 0.2710 - acc: 0.9028   4\n",
      "Epoch 3/3\n",
      "18562/18562 [==============================] - 819s - loss: 0.1724 - acc: 0.9380   \n",
      "Epoch 3/3\n",
      "18561/18561 [==============================] - 816s - loss: 0.1747 - acc: 0.9372   7\n",
      "  576/18562 [..............................] - ETA: 694s - loss: 0.1442 - acc: 0.9479Epoch 3/3\n",
      "18561/18561 [==============================] - 823s - loss: 0.1714 - acc: 0.9407   3\n",
      "Epoch 3/3\n",
      "  512/18561 [..............................] - ETA: 691s - loss: 0.1932 - acc: 0.9238\n",
      "Epoch 3/3\n",
      "18561/18561 [==============================] - 820s - loss: 0.1873 - acc: 0.9301   1\n",
      "Epoch 3/3\n",
      "18561/18561 [==============================] - 799s - loss: 0.1422 - acc: 0.9508   \n",
      "18561/18561 [==============================] - 803s - loss: 0.1320 - acc: 0.9551   \n",
      "18562/18562 [==============================] - 798s - loss: 0.1664 - acc: 0.9363   \n",
      "17728/18562 [===========================>..] - ETA: 36s - loss: 0.1553 - acc: 0.9431\n",
      "18562/18562 [==============================] - 802s - loss: 0.1267 - acc: 0.9556   \n",
      "18562/18562 [==============================] - 804s - loss: 0.1334 - acc: 0.9527   \n",
      "18561/18561 [==============================] - 801s - loss: 0.1337 - acc: 0.9536   \n",
      "18432/18562 [============================>.] - ETA: 5s - loss: 0.1826 - acc: 0.9295\n",
      "18561/18561 [==============================] - 808s - loss: 0.1639 - acc: 0.9356   \n",
      "18562/18562 [==============================] - 810s - loss: 0.1826 - acc: 0.9293   \n",
      "18561/18561 [==============================] - 810s - loss: 0.1845 - acc: 0.9279   \n",
      "18561/18561 [==============================] - 812s - loss: 0.1568 - acc: 0.9422   \n",
      "18561/18561 [==============================] - 814s - loss: 0.2289 - acc: 0.9051   \n",
      "18562/18562 [==============================] - 811s - loss: 0.1560 - acc: 0.9429   \n",
      "3264/9280 [=========>....................] - ETA: 71s loss: 0.1426 - acc: 0.9487  \n",
      "18561/18561 [==============================] - 808s - loss: 0.1564 - acc: 0.9432   \n",
      "18561/18561 [==============================] - 819s - loss: 0.1462 - acc: 0.9482   \n",
      "18561/18561 [==============================] - 820s - loss: 0.1396 - acc: 0.9521   \n",
      "9281/9281 [==============================] - 108s   \n",
      "9281/9281 [==============================] - 108s   \n",
      "9280/9280 [==============================] - 109s   \n",
      "9281/9281 [==============================] - 108s   \n",
      "9280/9280 [==============================] - 108s   \n",
      "9281/9281 [==============================] - 106s   \n",
      "9280/9280 [==============================] - 108s   \n",
      "9281/9281 [==============================] - 108s   \n",
      "9281/9281 [==============================] - 110s   20\n",
      "9280/9280 [==============================] - 110s   19\n",
      "9281/9281 [==============================] - 109s   20\n",
      "8512/9281 [==========================>...] - ETA: 9s\n",
      "9281/9281 [==============================] - 111s   19\n",
      " 1984/18562 [==>...........................] - ETA: 190s\n",
      "9280/9280 [==============================] - 107s   25\n",
      "9281/9281 [==============================] - 107s   \n",
      "9281/9281 [==============================] - 110s   17\n",
      "9281/9281 [==============================] - 110s   20\n",
      "17152/18561 [==========================>...] - ETA: 16s\n",
      "18561/18561 [==============================] - 217s   \n",
      "18562/18562 [==============================] - 221s   \n",
      "18561/18561 [==============================] - 217s   \n",
      "18562/18562 [==============================] - 218s   \n",
      "15744/18562 [========================>.....] - ETA: 33s\n",
      "18561/18561 [==============================] - 218s   \n",
      "17408/18561 [===========================>..] - ETA: 13s\n",
      "18561/18561 [==============================] - 220s   \n",
      "18562/18562 [==============================] - 216s   \n",
      "18561/18561 [==============================] - 217s   \n",
      "18561/18561 [==============================] - 209s   \n",
      "18562/18562 [==============================] - 203s   \n",
      "18562/18562 [==============================] - 205s   \n",
      "18561/18561 [==============================] - 202s   \n",
      "18561/18561 [==============================] - 201s   \n",
      "18561/18561 [==============================] - 206s   \n",
      "18561/18561 [==============================] - 199s   \n"
     ]
    },
    {
     "name": "stderr",
     "output_type": "stream",
     "text": [
      "/home/efs/nds.locus.io/berden/code/env/local/lib/python2.7/site-packages/sklearn/base.py:122: DeprecationWarning: Estimator KerasClassifier modifies parameters in __init__. This behavior is deprecated as of 0.18 and support for this behavior will be removed in 0.20.\n",
      "  % type(estimator).__name__, DeprecationWarning)\n"
     ]
    },
    {
     "name": "stdout",
     "output_type": "stream",
     "text": [
      "Epoch 1/3\n",
      "27842/27842 [==============================] - 348s - loss: 0.2852 - acc: 0.9039   \n",
      "Epoch 2/3\n",
      "27842/27842 [==============================] - 348s - loss: 0.1762 - acc: 0.9353   \n",
      "Epoch 3/3\n",
      "27842/27842 [==============================] - 344s - loss: 0.1470 - acc: 0.9481   \n"
     ]
    }
   ],
   "source": [
    "# model.fit(X_train, y_train, class_weight = class_rebalance,\n",
    "#           validation_data=(X_test, y_test), \n",
    "#           epochs=1, batch_size=64, verbose = 1)\n",
    "\n",
    "model = KerasClassifier(build_fn=create_model, \n",
    "                        class_weight = class_rebalance,\n",
    "                        epochs=3, batch_size=64, verbose = 1)\n",
    "\n",
    "# define the grid search parameters\n",
    "learn_rate = [0.0005, 0.001, 0.002]\n",
    "decay = [0, 0.005]\n",
    "param_grid = dict(learn_rate=learn_rate, decay=decay)\n",
    "grid = GridSearchCV(estimator=model, param_grid=param_grid, n_jobs=-1)\n",
    "grid_result = grid.fit(X_train, y_train)"
   ]
  },
  {
   "cell_type": "code",
   "execution_count": 8,
   "metadata": {},
   "outputs": [
    {
     "name": "stdout",
     "output_type": "stream",
     "text": [
      "Best: 0.929711 using {'learn_rate': 0.0005, 'decay': 0}\n",
      "0.929711 (0.002700) with: {'learn_rate': 0.0005, 'decay': 0}\n",
      "0.929351 (0.001104) with: {'learn_rate': 0.001, 'decay': 0}\n",
      "0.926658 (0.002928) with: {'learn_rate': 0.002, 'decay': 0}\n",
      "0.914661 (0.005802) with: {'learn_rate': 0.0005, 'decay': 0.005}\n",
      "0.928417 (0.002746) with: {'learn_rate': 0.001, 'decay': 0.005}\n",
      "0.929567 (0.001577) with: {'learn_rate': 0.002, 'decay': 0.005}\n"
     ]
    }
   ],
   "source": [
    "# summarize results\n",
    "print(\"Best: %f using %s\" % (grid_result.best_score_, grid_result.best_params_))\n",
    "means = grid_result.cv_results_['mean_test_score']\n",
    "stds = grid_result.cv_results_['std_test_score']\n",
    "params = grid_result.cv_results_['params']\n",
    "for mean, stdev, param in zip(means, stds, params):\n",
    "    print(\"%f (%f) with: %r\" % (mean, stdev, param))"
   ]
  },
  {
   "cell_type": "code",
   "execution_count": 10,
   "metadata": {},
   "outputs": [
    {
     "ename": "AttributeError",
     "evalue": "'KerasClassifier' object has no attribute 'evaluate'",
     "output_type": "error",
     "traceback": [
      "\u001b[0;31m---------------------------------------------------------------------------\u001b[0m",
      "\u001b[0;31mAttributeError\u001b[0m                            Traceback (most recent call last)",
      "\u001b[0;32m<ipython-input-10-2916f190dad3>\u001b[0m in \u001b[0;36m<module>\u001b[0;34m()\u001b[0m\n\u001b[1;32m      1\u001b[0m \u001b[0;31m# Final evaluation of the model\u001b[0m\u001b[0;34m\u001b[0m\u001b[0;34m\u001b[0m\u001b[0m\n\u001b[0;32m----> 2\u001b[0;31m \u001b[0mscores\u001b[0m \u001b[0;34m=\u001b[0m \u001b[0mgrid_result\u001b[0m\u001b[0;34m.\u001b[0m\u001b[0mbest_estimator_\u001b[0m\u001b[0;34m.\u001b[0m\u001b[0mevaluate\u001b[0m\u001b[0;34m(\u001b[0m\u001b[0mX_test\u001b[0m\u001b[0;34m,\u001b[0m \u001b[0my_test\u001b[0m\u001b[0;34m,\u001b[0m \u001b[0mverbose\u001b[0m\u001b[0;34m=\u001b[0m\u001b[0;36m0\u001b[0m\u001b[0;34m)\u001b[0m\u001b[0;34m\u001b[0m\u001b[0m\n\u001b[0m\u001b[1;32m      3\u001b[0m \u001b[0;32mprint\u001b[0m\u001b[0;34m(\u001b[0m\u001b[0;34m\"Accuracy: %.2f%%\"\u001b[0m \u001b[0;34m%\u001b[0m \u001b[0;34m(\u001b[0m\u001b[0mscores\u001b[0m\u001b[0;34m[\u001b[0m\u001b[0;36m1\u001b[0m\u001b[0;34m]\u001b[0m\u001b[0;34m*\u001b[0m\u001b[0;36m100\u001b[0m\u001b[0;34m)\u001b[0m\u001b[0;34m)\u001b[0m\u001b[0;34m\u001b[0m\u001b[0m\n",
      "\u001b[0;31mAttributeError\u001b[0m: 'KerasClassifier' object has no attribute 'evaluate'"
     ]
    }
   ],
   "source": [
    "# Final evaluation of the model\n",
    "scores = grid_result.best_estimator_.evaluate(X_test, y_test, verbose=0)\n",
    "print(\"Accuracy: %.2f%%\" % (scores[1]*100))"
   ]
  },
  {
   "cell_type": "code",
   "execution_count": null,
   "metadata": {
    "collapsed": true
   },
   "outputs": [],
   "source": [
    "from IPython.display import SVG\n",
    "from keras.utils.vis_utils import model_to_dot\n",
    "\n",
    "SVG(model_to_dot(model).create(prog='dot', format='svg'))"
   ]
  },
  {
   "cell_type": "markdown",
   "metadata": {},
   "source": [
    "# Running test notes"
   ]
  },
  {
   "cell_type": "code",
   "execution_count": null,
   "metadata": {
    "collapsed": true
   },
   "outputs": [],
   "source": [
    "SGD: lr, momentum\n",
    "Adam: lr, decay, lower lr than 0.0005 5e-4\n",
    "Dropout\n",
    "Feature sizes\n",
    "Hidden layer sizes"
   ]
  },
  {
   "cell_type": "code",
   "execution_count": null,
   "metadata": {
    "collapsed": true
   },
   "outputs": [],
   "source": [
    "SGD\n",
    "\n",
    "Best: 0.634473 using {'learn_rate': 0.3, 'momentum': 0.9}\n",
    "0.595683 (0.005809) with: {'learn_rate': 0.001, 'momentum': 0.0}\n",
    "0.595683 (0.005809) with: {'learn_rate': 0.001, 'momentum': 0.2}\n",
    "0.595683 (0.005809) with: {'learn_rate': 0.001, 'momentum': 0.4}\n",
    "0.595683 (0.005809) with: {'learn_rate': 0.001, 'momentum': 0.6}\n",
    "0.595683 (0.005809) with: {'learn_rate': 0.001, 'momentum': 0.8}\n",
    "0.595683 (0.005809) with: {'learn_rate': 0.001, 'momentum': 0.9}\n",
    "0.595683 (0.005809) with: {'learn_rate': 0.01, 'momentum': 0.0}\n",
    "0.595683 (0.005809) with: {'learn_rate': 0.01, 'momentum': 0.2}\n",
    "0.595683 (0.005809) with: {'learn_rate': 0.01, 'momentum': 0.4}\n",
    "0.595683 (0.005809) with: {'learn_rate': 0.01, 'momentum': 0.6}\n",
    "0.595683 (0.005809) with: {'learn_rate': 0.01, 'momentum': 0.8}\n",
    "0.595683 (0.005809) with: {'learn_rate': 0.01, 'momentum': 0.9}\n",
    "0.595683 (0.005809) with: {'learn_rate': 0.1, 'momentum': 0.0}\n",
    "0.595683 (0.005809) with: {'learn_rate': 0.1, 'momentum': 0.2}\n",
    "0.595683 (0.005809) with: {'learn_rate': 0.1, 'momentum': 0.4}\n",
    "0.595683 (0.005809) with: {'learn_rate': 0.1, 'momentum': 0.6}\n",
    "0.595683 (0.005809) with: {'learn_rate': 0.1, 'momentum': 0.8}\n",
    "0.596006 (0.005782) with: {'learn_rate': 0.1, 'momentum': 0.9}\n",
    "0.595683 (0.005809) with: {'learn_rate': 0.2, 'momentum': 0.0}\n",
    "0.543711 (0.068321) with: {'learn_rate': 0.2, 'momentum': 0.2}\n",
    "0.595683 (0.005809) with: {'learn_rate': 0.2, 'momentum': 0.4}\n",
    "0.530853 (0.086421) with: {'learn_rate': 0.2, 'momentum': 0.6}\n",
    "0.607176 (0.016544) with: {'learn_rate': 0.2, 'momentum': 0.8}\n",
    "0.571690 (0.113638) with: {'learn_rate': 0.2, 'momentum': 0.9}\n",
    "0.467567 (0.090206) with: {'learn_rate': 0.3, 'momentum': 0.0}\n",
    "0.467567 (0.090206) with: {'learn_rate': 0.3, 'momentum': 0.2}\n",
    "0.526902 (0.092007) with: {'learn_rate': 0.3, 'momentum': 0.4}\n",
    "0.595755 (0.005727) with: {'learn_rate': 0.3, 'momentum': 0.6}\n",
    "0.601789 (0.005178) with: {'learn_rate': 0.3, 'momentum': 0.8}\n",
    "0.634473 (0.027064) with: {'learn_rate': 0.3, 'momentum': 0.9}"
   ]
  },
  {
   "cell_type": "code",
   "execution_count": null,
   "metadata": {
    "collapsed": true
   },
   "outputs": [],
   "source": [
    "Adam\n",
    "\n",
    "with 1 epoch\n",
    "Best: 0.919079 using {'learn_rate': 0.001, 'decay': 0.0}\n",
    "0.919079 (0.002999) with: {'learn_rate': 0.001, 'decay': 0.0}\n",
    "0.908520 (0.007281) with: {'learn_rate': 0.01, 'decay': 0.0}\n",
    "0.877128 (0.020741) with: {'learn_rate': 0.1, 'decay': 0.0}\n",
    "0.869047 (0.019981) with: {'learn_rate': 0.3, 'decay': 0.0}\n",
    "0.894943 (0.001242) with: {'learn_rate': 0.001, 'decay': 0.02}\n",
    "0.903024 (0.005885) with: {'learn_rate': 0.01, 'decay': 0.02}\n",
    "0.596832 (0.422036) with: {'learn_rate': 0.1, 'decay': 0.02}\n",
    "0.894656 (0.000881) with: {'learn_rate': 0.3, 'decay': 0.02}\n",
    "0.894656 (0.000881) with: {'learn_rate': 0.001, 'decay': 0.04}\n",
    "0.900259 (0.007373) with: {'learn_rate': 0.01, 'decay': 0.04}\n",
    "0.895446 (0.001685) with: {'learn_rate': 0.1, 'decay': 0.04}\n",
    "0.894656 (0.000881) with: {'learn_rate': 0.3, 'decay': 0.04}\n",
    "0.894656 (0.000881) with: {'learn_rate': 0.001, 'decay': 0.06}\n",
    "0.902773 (0.005021) with: {'learn_rate': 0.01, 'decay': 0.06}\n",
    "0.894727 (0.000968) with: {'learn_rate': 0.1, 'decay': 0.06}\n",
    "0.894799 (0.001048) with: {'learn_rate': 0.3, 'decay': 0.06}\n",
    "0.894656 (0.000881) with: {'learn_rate': 0.001, 'decay': 0.09}\n",
    "0.906903 (0.005251) with: {'learn_rate': 0.01, 'decay': 0.09}\n",
    "0.896344 (0.002442) with: {'learn_rate': 0.1, 'decay': 0.09}\n",
    "0.894656 (0.000881) with: {'learn_rate': 0.3, 'decay': 0.09}\n",
    "    \n",
    "Best: 0.919295 using {'learn_rate': 0.001, 'decay': 0.005}\n",
    "0.894835 (0.002537) with: {'learn_rate': 0.0001, 'decay': 0.005}\n",
    "0.898463 (0.002219) with: {'learn_rate': 0.0005, 'decay': 0.005}\n",
    "0.919295 (0.003680) with: {'learn_rate': 0.001, 'decay': 0.005}\n",
    "0.905754 (0.014361) with: {'learn_rate': 0.01, 'decay': 0.005}\n",
    "0.894835 (0.002537) with: {'learn_rate': 0.0001, 'decay': 0.01}\n",
    "0.894835 (0.002537) with: {'learn_rate': 0.0005, 'decay': 0.01}\n",
    "0.908843 (0.002461) with: {'learn_rate': 0.001, 'decay': 0.01}\n",
    "0.914302 (0.008678) with: {'learn_rate': 0.01, 'decay': 0.01}\n",
    "0.894835 (0.002537) with: {'learn_rate': 0.0001, 'decay': 0.02}\n",
    "0.894835 (0.002537) with: {'learn_rate': 0.0005, 'decay': 0.02}\n",
    "0.896056 (0.002202) with: {'learn_rate': 0.001, 'decay': 0.02}\n",
    "0.904820 (0.012220) with: {'learn_rate': 0.01, 'decay': 0.02}\n",
    "    \n",
    "with 3 epochs\n",
    "\n",
    "Best: 0.929711 using {'learn_rate': 0.0005, 'decay': 0}\n",
    "0.929711 (0.002700) with: {'learn_rate': 0.0005, 'decay': 0}\n",
    "0.929351 (0.001104) with: {'learn_rate': 0.001, 'decay': 0}\n",
    "0.926658 (0.002928) with: {'learn_rate': 0.002, 'decay': 0}\n",
    "0.914661 (0.005802) with: {'learn_rate': 0.0005, 'decay': 0.005}\n",
    "0.928417 (0.002746) with: {'learn_rate': 0.001, 'decay': 0.005}\n",
    "0.929567 (0.001577) with: {'learn_rate': 0.002, 'decay': 0.005}"
   ]
  },
  {
   "cell_type": "code",
   "execution_count": null,
   "metadata": {
    "collapsed": true
   },
   "outputs": [],
   "source": []
  }
 ],
 "metadata": {
  "kernelspec": {
   "display_name": "Python 2",
   "language": "python",
   "name": "python2"
  },
  "language_info": {
   "codemirror_mode": {
    "name": "ipython",
    "version": 2
   },
   "file_extension": ".py",
   "mimetype": "text/x-python",
   "name": "python",
   "nbconvert_exporter": "python",
   "pygments_lexer": "ipython2",
   "version": "2.7.6"
  }
 },
 "nbformat": 4,
 "nbformat_minor": 2
}
