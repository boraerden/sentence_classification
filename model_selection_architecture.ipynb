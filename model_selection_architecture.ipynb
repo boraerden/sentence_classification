{
 "cells": [
  {
   "cell_type": "code",
   "execution_count": 1,
   "metadata": {},
   "outputs": [
    {
     "name": "stderr",
     "output_type": "stream",
     "text": [
      "Using TensorFlow backend.\n"
     ]
    }
   ],
   "source": [
    "import numpy as np\n",
    "from keras.models import Sequential\n",
    "from keras.layers import Dense, Dropout, LSTM, Bidirectional\n",
    "from keras.optimizers import SGD, Adam\n",
    "from keras.layers.embeddings import Embedding\n",
    "from keras.layers.convolutional import Conv1D, MaxPooling1D\n",
    "\n",
    "from sklearn.model_selection import train_test_split, GridSearchCV\n",
    "from keras.wrappers.scikit_learn import KerasClassifier\n",
    "from sklearn.utils import class_weight\n",
    "\n",
    "from pdb import set_trace as t\n",
    "import util\n"
   ]
  },
  {
   "cell_type": "code",
   "execution_count": 2,
   "metadata": {},
   "outputs": [
    {
     "data": {
      "text/html": [
       "<script>\n",
       "code_show_err=false; \n",
       "function code_toggle_err() {\n",
       " if (code_show_err){\n",
       " $('div.output_stderr').hide();\n",
       " } else {\n",
       " $('div.output_stderr').show();\n",
       " }\n",
       " code_show_err = !code_show_err\n",
       "} \n",
       "$( document ).ready(code_toggle_err);\n",
       "</script>\n",
       "To toggle on/off output_stderr, click <a href=\"javascript:code_toggle_err()\">here</a>."
      ],
      "text/plain": [
       "<IPython.core.display.HTML object>"
      ]
     },
     "execution_count": 2,
     "metadata": {},
     "output_type": "execute_result"
    }
   ],
   "source": [
    "from IPython.display import HTML\n",
    "HTML('''<script>\n",
    "code_show_err=false; \n",
    "function code_toggle_err() {\n",
    " if (code_show_err){\n",
    " $('div.output_stderr').hide();\n",
    " } else {\n",
    " $('div.output_stderr').show();\n",
    " }\n",
    " code_show_err = !code_show_err\n",
    "} \n",
    "$( document ).ready(code_toggle_err);\n",
    "</script>\n",
    "To toggle on/off output_stderr, click <a href=\"javascript:code_toggle_err()\">here</a>.''')"
   ]
  },
  {
   "cell_type": "code",
   "execution_count": 3,
   "metadata": {},
   "outputs": [
    {
     "data": {
      "text/plain": [
       "<module 'util' from 'util.pyc'>"
      ]
     },
     "execution_count": 3,
     "metadata": {},
     "output_type": "execute_result"
    }
   ],
   "source": [
    "reload(util)"
   ]
  },
  {
   "cell_type": "code",
   "execution_count": 4,
   "metadata": {
    "collapsed": true
   },
   "outputs": [],
   "source": [
    "vocab_size = 50000\n",
    "max_review_length = 500\n",
    "sentences, what_labels, _, _, _ = util.load_data(vocab_size, max_review_length)"
   ]
  },
  {
   "cell_type": "code",
   "execution_count": 5,
   "metadata": {
    "collapsed": true
   },
   "outputs": [],
   "source": [
    "X_train, X_test, y_train, y_test = train_test_split(sentences, what_labels, test_size = 0.33)\n",
    "class_rebalance = class_weight.compute_class_weight('balanced', np.unique(y_train), y_train)"
   ]
  },
  {
   "cell_type": "code",
   "execution_count": 6,
   "metadata": {
    "collapsed": true
   },
   "outputs": [],
   "source": [
    "def create_model(arch):\n",
    "    \n",
    "    embedding_vector_length = 32\n",
    "    dropout_rate = 0.2\n",
    "    learn_rate = 0.005\n",
    "    decay = 0\n",
    "    \n",
    "    if arch == 1:\n",
    "        # with one ltsm\n",
    "        model = Sequential()\n",
    "        model.add(Embedding(vocab_size, embedding_vector_length, input_length=max_review_length))\n",
    "        model.add(Dropout(dropout_rate))\n",
    "        model.add(LSTM(100))\n",
    "        model.add(Dropout(dropout_rate))\n",
    "        model.add(Dense(1, activation='sigmoid'))\n",
    "        optimizer = Adam(lr=learn_rate, decay=decay)\n",
    "        model.compile(loss='binary_crossentropy', optimizer=optimizer, metrics=['accuracy'])\n",
    "    \n",
    "    elif arch ==2:\n",
    "        # with 1D conv\n",
    "        model = Sequential()\n",
    "        model.add(Embedding(vocab_size, embedding_vector_length, input_length=max_review_length))\n",
    "        model.add(Conv1D(filters=32, kernel_size=3, padding='same', activation='relu'))\n",
    "        model.add(MaxPooling1D(pool_size=2))\n",
    "        model.add(LSTM(100))\n",
    "        model.add(Dropout(dropout_rate))\n",
    "        model.add(Dense(1, activation='sigmoid'))\n",
    "        optimizer = Adam(lr=learn_rate, decay=decay)\n",
    "        model.compile(loss='binary_crossentropy', optimizer=optimizer, metrics=['accuracy'])\n",
    "        \n",
    "    elif arch == 3:\n",
    "        # with one bidirectional\n",
    "        model = Sequential()\n",
    "        model.add(Embedding(vocab_size, embedding_vector_length, input_length=max_review_length))\n",
    "        model.add(Dropout(dropout_rate))\n",
    "        model.add(Bidirectional(LSTM(100)))\n",
    "        model.add(Dropout(dropout_rate))\n",
    "        model.add(Dense(1, activation='sigmoid'))\n",
    "        optimizer = Adam(lr=learn_rate, decay=decay)\n",
    "        model.compile(loss='binary_crossentropy', optimizer=optimizer, metrics=['accuracy'])\n",
    "        \n",
    "    elif arch == 4:\n",
    "        # with two ltsm\n",
    "        model = Sequential()\n",
    "        model.add(Embedding(vocab_size, embedding_vector_length, input_length=max_review_length))\n",
    "        model.add(Dropout(dropout_rate))\n",
    "        model.add(LSTM(100))\n",
    "        model.add(Dropout(dropout_rate))\n",
    "        model.add(LSTM(100))\n",
    "        model.add(Dropout(dropout_rate))\n",
    "        model.add(Dense(1, activation='sigmoid'))\n",
    "        optimizer = Adam(lr=learn_rate, decay=decay)\n",
    "        model.compile(loss='binary_crossentropy', optimizer=optimizer, metrics=['accuracy'])\n",
    "\n",
    "    return model"
   ]
  },
  {
   "cell_type": "code",
   "execution_count": 7,
   "metadata": {
    "scrolled": false
   },
   "outputs": [
    {
     "name": "stderr",
     "output_type": "stream",
     "text": [
      "/home/efs/nds.locus.io/berden/code/env/local/lib/python2.7/site-packages/sklearn/base.py:122: DeprecationWarning: Estimator KerasClassifier modifies parameters in __init__. This behavior is deprecated as of 0.18 and support for this behavior will be removed in 0.20.\n",
      "  % type(estimator).__name__, DeprecationWarning)\n",
      "/home/efs/nds.locus.io/berden/code/env/local/lib/python2.7/site-packages/sklearn/base.py:122: DeprecationWarning: Estimator KerasClassifier modifies parameters in __init__. This behavior is deprecated as of 0.18 and support for this behavior will be removed in 0.20.\n",
      "  % type(estimator).__name__, DeprecationWarning)\n",
      "/home/efs/nds.locus.io/berden/code/env/local/lib/python2.7/site-packages/sklearn/base.py:122: DeprecationWarning: Estimator KerasClassifier modifies parameters in __init__. This behavior is deprecated as of 0.18 and support for this behavior will be removed in 0.20.\n",
      "  % type(estimator).__name__, DeprecationWarning)\n",
      "/home/efs/nds.locus.io/berden/code/env/local/lib/python2.7/site-packages/sklearn/base.py:122: DeprecationWarning: Estimator KerasClassifier modifies parameters in __init__. This behavior is deprecated as of 0.18 and support for this behavior will be removed in 0.20.\n",
      "  % type(estimator).__name__, DeprecationWarning)\n",
      "/home/efs/nds.locus.io/berden/code/env/local/lib/python2.7/site-packages/sklearn/base.py:122: DeprecationWarning: Estimator KerasClassifier modifies parameters in __init__. This behavior is deprecated as of 0.18 and support for this behavior will be removed in 0.20.\n",
      "  % type(estimator).__name__, DeprecationWarning)\n",
      "/home/efs/nds.locus.io/berden/code/env/local/lib/python2.7/site-packages/sklearn/base.py:122: DeprecationWarning: Estimator KerasClassifier modifies parameters in __init__. This behavior is deprecated as of 0.18 and support for this behavior will be removed in 0.20.\n",
      "  % type(estimator).__name__, DeprecationWarning)\n",
      "/home/efs/nds.locus.io/berden/code/env/local/lib/python2.7/site-packages/sklearn/base.py:122: DeprecationWarning: Estimator KerasClassifier modifies parameters in __init__. This behavior is deprecated as of 0.18 and support for this behavior will be removed in 0.20.\n",
      "  % type(estimator).__name__, DeprecationWarning)\n",
      "/home/efs/nds.locus.io/berden/code/env/local/lib/python2.7/site-packages/sklearn/base.py:122: DeprecationWarning: Estimator KerasClassifier modifies parameters in __init__. This behavior is deprecated as of 0.18 and support for this behavior will be removed in 0.20.\n",
      "  % type(estimator).__name__, DeprecationWarning)\n",
      "/home/efs/nds.locus.io/berden/code/env/local/lib/python2.7/site-packages/sklearn/base.py:122: DeprecationWarning: Estimator KerasClassifier modifies parameters in __init__. This behavior is deprecated as of 0.18 and support for this behavior will be removed in 0.20.\n",
      "  % type(estimator).__name__, DeprecationWarning)\n",
      "/home/efs/nds.locus.io/berden/code/env/local/lib/python2.7/site-packages/sklearn/base.py:122: DeprecationWarning: Estimator KerasClassifier modifies parameters in __init__. This behavior is deprecated as of 0.18 and support for this behavior will be removed in 0.20.\n",
      "  % type(estimator).__name__, DeprecationWarning)\n"
     ]
    },
    {
     "name": "stdout",
     "output_type": "stream",
     "text": [
      "Epoch 1/1\n",
      "Epoch 1/1\n",
      "Epoch 1/1\n",
      "Epoch 1/1\n",
      "Epoch 1/1\n",
      "Epoch 1/1\n",
      "Epoch 1/1\n",
      "Epoch 1/1\n",
      "Epoch 1/1\n",
      "18562/18562 [==============================] - 261s - loss: 0.2701 - acc: 0.9057   \n",
      "18561/18561 [==============================] - 262s - loss: 0.2885 - acc: 0.9028   \n",
      "18561/18561 [==============================] - 263s - loss: 0.2647 - acc: 0.9056   9\n",
      "9280/9280 [==============================] - 41s    397s - loss: 0.31\n",
      "9281/9281 [==============================] - 41s    206s - loss: 0.3013 - acc: 0.89\n",
      "9281/9281 [==============================] - 42s    \n",
      "18561/18561 [==============================] - 82s    0s - loss: 0.2801 - acc\n",
      "18562/18562 [==============================] - 83s    8s - loss: 0.2951 - a\n",
      "18561/18561 [==============================] - 82s    3s - loss: 0.2888 - acc: 0.90\n",
      "18561/18561 [==============================] - 482s - loss: 0.2711 - acc: 0.9068   1\n",
      "18561/18561 [==============================] - 483s - loss: 0.2975 - acc: 0.8969   2\n",
      "18562/18562 [==============================] - 485s - loss: 0.2799 - acc: 0.9029   \n",
      "9281/9281 [==============================] - 60s    96s - loss: 0.2664\n",
      "9281/9281 [==============================] - 60s    91s - loss: 0.2872 - acc: 0.\n",
      "9280/9280 [==============================] - 60s    89s - loss: 0.2871 - acc: 0.89\n",
      "11712/18561 [=================>............] - ETA: 43soss: 0.2779 - acc: 0.9021  \n",
      "18561/18561 [==============================] - 617s - loss: 0.2606 - acc: 0.9077   \n",
      "18562/18562 [==============================] - 621s - loss: 0.2697 - acc: 0.9044   \n",
      "18561/18561 [==============================] - 119s   \n",
      "18561/18561 [==============================] - 119s   \n",
      "18562/18562 [==============================] - 118s   \n",
      "9281/9281 [==============================] - 67s    \n",
      "9281/9281 [==============================] - 66s    \n",
      "9280/9280 [==============================] - 65s    11\n",
      "18561/18561 [==============================] - 112s   \n",
      "18561/18561 [==============================] - 111s   \n",
      "18562/18562 [==============================] - 111s   \n"
     ]
    },
    {
     "name": "stderr",
     "output_type": "stream",
     "text": [
      "/home/efs/nds.locus.io/berden/code/env/local/lib/python2.7/site-packages/sklearn/base.py:122: DeprecationWarning: Estimator KerasClassifier modifies parameters in __init__. This behavior is deprecated as of 0.18 and support for this behavior will be removed in 0.20.\n",
      "  % type(estimator).__name__, DeprecationWarning)\n"
     ]
    },
    {
     "name": "stdout",
     "output_type": "stream",
     "text": [
      "Epoch 1/1\n",
      "27842/27842 [==============================] - 185s - loss: 0.2650 - acc: 0.9074   \n"
     ]
    }
   ],
   "source": [
    "model = KerasClassifier(build_fn=create_model, \n",
    "                        class_weight = class_rebalance,\n",
    "                        epochs=1, batch_size=64, verbose = 1)\n",
    "\n",
    "# define the grid search parameters\n",
    "arch = [1,2,3]\n",
    "param_grid = dict(arch=arch)\n",
    "grid = GridSearchCV(estimator=model, param_grid=param_grid, n_jobs=-1)\n",
    "grid_result = grid.fit(X_train, y_train)"
   ]
  },
  {
   "cell_type": "code",
   "execution_count": 8,
   "metadata": {},
   "outputs": [
    {
     "name": "stdout",
     "output_type": "stream",
     "text": [
      "Best: 0.919079 using {'arch': 2}\n",
      "0.907011 (0.005349) with: {'arch': 1}\n",
      "0.919079 (0.005160) with: {'arch': 2}\n",
      "0.918002 (0.007704) with: {'arch': 3}\n"
     ]
    }
   ],
   "source": [
    "# summarize results\n",
    "print(\"Best: %f using %s\" % (grid_result.best_score_, grid_result.best_params_))\n",
    "means = grid_result.cv_results_['mean_test_score']\n",
    "stds = grid_result.cv_results_['std_test_score']\n",
    "params = grid_result.cv_results_['params']\n",
    "for mean, stdev, param in zip(means, stds, params):\n",
    "    print(\"%f (%f) with: %r\" % (mean, stdev, param))"
   ]
  },
  {
   "cell_type": "markdown",
   "metadata": {},
   "source": [
    "# Running test notes"
   ]
  },
  {
   "cell_type": "code",
   "execution_count": null,
   "metadata": {
    "collapsed": true
   },
   "outputs": [],
   "source": []
  },
  {
   "cell_type": "code",
   "execution_count": null,
   "metadata": {
    "collapsed": true
   },
   "outputs": [],
   "source": []
  }
 ],
 "metadata": {
  "kernelspec": {
   "display_name": "Python 2",
   "language": "python",
   "name": "python2"
  },
  "language_info": {
   "codemirror_mode": {
    "name": "ipython",
    "version": 2
   },
   "file_extension": ".py",
   "mimetype": "text/x-python",
   "name": "python",
   "nbconvert_exporter": "python",
   "pygments_lexer": "ipython2",
   "version": "2.7.6"
  }
 },
 "nbformat": 4,
 "nbformat_minor": 2
}
